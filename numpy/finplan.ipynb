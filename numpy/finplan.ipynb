{
 "cells": [
  {
   "cell_type": "code",
   "execution_count": 14,
   "metadata": {},
   "outputs": [],
   "source": [
    "import pandas as pd\n",
    "import json"
   ]
  },
  {
   "cell_type": "code",
   "execution_count": 40,
   "metadata": {},
   "outputs": [
    {
     "data": {
      "text/html": [
       "<div>\n",
       "<style scoped>\n",
       "    .dataframe tbody tr th:only-of-type {\n",
       "        vertical-align: middle;\n",
       "    }\n",
       "\n",
       "    .dataframe tbody tr th {\n",
       "        vertical-align: top;\n",
       "    }\n",
       "\n",
       "    .dataframe thead th {\n",
       "        text-align: right;\n",
       "    }\n",
       "</style>\n",
       "<table border=\"1\" class=\"dataframe\">\n",
       "  <thead>\n",
       "    <tr style=\"text-align: right;\">\n",
       "      <th></th>\n",
       "      <th>Auslands-kv.</th>\n",
       "      <th>BU-Versicherung</th>\n",
       "      <th>Einkommen</th>\n",
       "      <th>GEZ</th>\n",
       "      <th>Kfz-Versicherung</th>\n",
       "      <th>Krankenversicherung</th>\n",
       "      <th>Miete</th>\n",
       "      <th>Privathaftpflicht</th>\n",
       "      <th>Reisen</th>\n",
       "      <th>Safety Margin</th>\n",
       "      <th>Spaß</th>\n",
       "      <th>Spenden</th>\n",
       "      <th>Strom</th>\n",
       "      <th>Telefon</th>\n",
       "      <th>Unterhalt</th>\n",
       "      <th>monat</th>\n",
       "    </tr>\n",
       "  </thead>\n",
       "  <tbody>\n",
       "    <tr>\n",
       "      <th>0</th>\n",
       "      <td>-0.75</td>\n",
       "      <td>-83.52</td>\n",
       "      <td>5475</td>\n",
       "      <td>-17.5</td>\n",
       "      <td>-47.5</td>\n",
       "      <td>-842</td>\n",
       "      <td>-1030</td>\n",
       "      <td>-3.5</td>\n",
       "      <td>-300</td>\n",
       "      <td>-50</td>\n",
       "      <td>-15</td>\n",
       "      <td>-35</td>\n",
       "      <td>-40</td>\n",
       "      <td>-53</td>\n",
       "      <td>-914</td>\n",
       "      <td>july 2019</td>\n",
       "    </tr>\n",
       "  </tbody>\n",
       "</table>\n",
       "</div>"
      ],
      "text/plain": [
       "   Auslands-kv.  BU-Versicherung  Einkommen   GEZ  Kfz-Versicherung  \\\n",
       "0         -0.75           -83.52       5475 -17.5             -47.5   \n",
       "\n",
       "   Krankenversicherung  Miete  Privathaftpflicht  Reisen  Safety Margin  Spaß  \\\n",
       "0                 -842  -1030               -3.5    -300            -50   -15   \n",
       "\n",
       "   Spenden  Strom  Telefon  Unterhalt      monat  \n",
       "0      -35    -40      -53       -914  july 2019  "
      ]
     },
     "execution_count": 40,
     "metadata": {},
     "output_type": "execute_result"
    }
   ],
   "source": [
    "pd.read_json('findata.json')"
   ]
  }
 ],
 "metadata": {
  "kernelspec": {
   "display_name": "Python 3",
   "language": "python",
   "name": "python3"
  },
  "language_info": {
   "codemirror_mode": {
    "name": "ipython",
    "version": 3
   },
   "file_extension": ".py",
   "mimetype": "text/x-python",
   "name": "python",
   "nbconvert_exporter": "python",
   "pygments_lexer": "ipython3",
   "version": "3.7.1"
  }
 },
 "nbformat": 4,
 "nbformat_minor": 2
}
